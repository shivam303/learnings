{
 "cells": [
  {
   "cell_type": "code",
   "execution_count": 2,
   "id": "8f3f0bae-b76e-48dd-be2d-0442ffd9d320",
   "metadata": {
    "tags": []
   },
   "outputs": [],
   "source": [
    "class car:\n",
    "    pass"
   ]
  },
  {
   "cell_type": "code",
   "execution_count": 3,
   "id": "98958596-457b-4aaf-88d3-95da2a598e3b",
   "metadata": {
    "tags": []
   },
   "outputs": [],
   "source": [
    "toyota = car()\n",
    "audi  = car()\n",
    "bmw = car()"
   ]
  },
  {
   "cell_type": "code",
   "execution_count": 5,
   "id": "b59345e4-06e0-40ce-a413-52892d83f3fb",
   "metadata": {
    "tags": []
   },
   "outputs": [
    {
     "name": "stdout",
     "output_type": "stream",
     "text": [
      "<__main__.car object at 0x0000022C1C3A6B50>\n"
     ]
    }
   ],
   "source": [
    "print(bmw)"
   ]
  },
  {
   "cell_type": "code",
   "execution_count": 4,
   "id": "c1f27683-8c3d-45f8-ba60-7f86df669211",
   "metadata": {
    "tags": []
   },
   "outputs": [],
   "source": [
    "## instance variable and methods\n",
    "\n",
    "class Dog:\n",
    "    \n",
    "    ##constructor\n",
    "    def __init__(self,name,age):\n",
    "        self.name = name\n",
    "        self.age = age        \n",
    "        \n",
    "    ## create objects\n",
    "    \n",
    "dog1 = Dog('Tommy',5)"
   ]
  },
  {
   "cell_type": "code",
   "execution_count": 4,
   "id": "93c60d68-84f9-4546-ae45-4f1c4ce18fe3",
   "metadata": {
    "tags": []
   },
   "outputs": [
    {
     "name": "stdout",
     "output_type": "stream",
     "text": [
      "Tommy\n",
      "5\n"
     ]
    }
   ],
   "source": [
    "print(dog1.name)\n",
    "print(dog1.age)"
   ]
  },
  {
   "cell_type": "code",
   "execution_count": 6,
   "id": "94711ff9-c4d9-46d5-912d-d4d97b434986",
   "metadata": {
    "tags": []
   },
   "outputs": [],
   "source": [
    "dog2 = Dog('Moti',7)"
   ]
  },
  {
   "cell_type": "code",
   "execution_count": 12,
   "id": "2e6d02a9-8dc4-4b45-a620-00161c51e7fa",
   "metadata": {
    "tags": []
   },
   "outputs": [],
   "source": [
    "##define a class with instance method\n",
    "\n",
    "class Dog:\n",
    "    def __init__(self,name,age):\n",
    "        self.name = name\n",
    "        self.age = age\n",
    "        \n",
    "    def bark(self):\n",
    "        print(f'{self.name} says woooff')\n",
    "        \n",
    "dog2 = Dog('Heera',12)\n",
    "dog3 = Dog('Lucy',2)"
   ]
  },
  {
   "cell_type": "code",
   "execution_count": 13,
   "id": "a53297c7-e07c-4e9f-8db3-95dec6e94043",
   "metadata": {
    "tags": []
   },
   "outputs": [
    {
     "name": "stdout",
     "output_type": "stream",
     "text": [
      "Heera says woooff\n",
      "Lucy says woooff\n"
     ]
    }
   ],
   "source": [
    "dog2.bark()\n",
    "dog3.bark()"
   ]
  },
  {
   "cell_type": "code",
   "execution_count": 17,
   "id": "ca9ab74c-4016-410e-adec-3de8b6b9b67b",
   "metadata": {
    "tags": []
   },
   "outputs": [],
   "source": [
    "## Modelling a bank account\n",
    "\n",
    "## define a class for bank account\n",
    "\n",
    "class BankAccount:\n",
    "    def __init__(self,owner,balance = 0):\n",
    "        self.owner = owner\n",
    "        self.balance = balance\n",
    "    \n",
    "    def deposit(self,amount):\n",
    "        self.balance+=amount\n",
    "        print(f\"{amount} is deposited new balance is {self.balance}\")\n",
    "        \n",
    "    def withdraw(self,amount):\n",
    "        if amount>self.balance:\n",
    "            print(\"Insufficient funds!\")\n",
    "        \n",
    "        else:\n",
    "            self.balance-=amount\n",
    "            print(f\"{amount} is withdrawn new balance is {self.balance}\")\n",
    "    \n",
    "    def get_balance(self):\n",
    "        return self.balance\n",
    "            \n",
    "\n",
    "account = BankAccount(\"Shivam\",10000)    "
   ]
  },
  {
   "cell_type": "code",
   "execution_count": 22,
   "id": "59bdff2d-292d-46f4-962b-5098381b2c2c",
   "metadata": {
    "tags": []
   },
   "outputs": [
    {
     "name": "stdout",
     "output_type": "stream",
     "text": [
      "500 is withdrawn new balance is 9500\n"
     ]
    },
    {
     "data": {
      "text/plain": [
       "9500"
      ]
     },
     "execution_count": 22,
     "metadata": {},
     "output_type": "execute_result"
    }
   ],
   "source": [
    "account.withdraw(500)\n",
    "account.get_balance()"
   ]
  }
 ],
 "metadata": {
  "kernelspec": {
   "display_name": "Python 3 (ipykernel)",
   "language": "python",
   "name": "python3"
  },
  "language_info": {
   "codemirror_mode": {
    "name": "ipython",
    "version": 3
   },
   "file_extension": ".py",
   "mimetype": "text/x-python",
   "name": "python",
   "nbconvert_exporter": "python",
   "pygments_lexer": "ipython3",
   "version": "3.11.5"
  }
 },
 "nbformat": 4,
 "nbformat_minor": 5
}
