{
 "cells": [
  {
   "cell_type": "markdown",
   "id": "b9256ece-1b36-404c-aba6-fc9151599919",
   "metadata": {},
   "source": [
    "* Abstraction is process of hiding complex implementation details and showing only a necessary feature of an object"
   ]
  },
  {
   "cell_type": "code",
   "execution_count": 4,
   "id": "e5046fcd-b308-40b7-b6e6-a5c069457721",
   "metadata": {
    "tags": []
   },
   "outputs": [
    {
     "name": "stdout",
     "output_type": "stream",
     "text": [
      "Car engine started\n"
     ]
    }
   ],
   "source": [
    "from abc import ABC, abstractmethod\n",
    "\n",
    "## Abstract class\n",
    "\n",
    "class Vehicle(ABC):\n",
    "    def drive(self):\n",
    "        print(\"We are rinding something\")\n",
    "        \n",
    "    @abstractmethod\n",
    "    def start_engine(self):\n",
    "        pass\n",
    "    \n",
    "class Car(Vehicle):\n",
    "    def start_engine(self):\n",
    "        print(\"Car engine started\")\n",
    "        \n",
    "def operate(vehicle):\n",
    "    vehicle.start_engine()\n",
    "    \n",
    "car = Car()\n",
    "\n",
    "operate(car)"
   ]
  }
 ],
 "metadata": {
  "kernelspec": {
   "display_name": "Python 3 (ipykernel)",
   "language": "python",
   "name": "python3"
  },
  "language_info": {
   "codemirror_mode": {
    "name": "ipython",
    "version": 3
   },
   "file_extension": ".py",
   "mimetype": "text/x-python",
   "name": "python",
   "nbconvert_exporter": "python",
   "pygments_lexer": "ipython3",
   "version": "3.11.5"
  }
 },
 "nbformat": 4,
 "nbformat_minor": 5
}
