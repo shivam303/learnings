{
 "cells": [
  {
   "cell_type": "code",
   "execution_count": 1,
   "id": "e530d50b-02ba-4fb8-86f5-5bcea4c24440",
   "metadata": {
    "tags": []
   },
   "outputs": [],
   "source": [
    "## Processes that can run parallely\n",
    "## CPU bound tasks - tasks that are heavy on cpu usage "
   ]
  },
  {
   "cell_type": "code",
   "execution_count": 1,
   "id": "e8dcc6c4-f071-461e-9661-0ff7dd758c7e",
   "metadata": {
    "tags": []
   },
   "outputs": [],
   "source": [
    "import multiprocessing , time"
   ]
  },
  {
   "cell_type": "code",
   "execution_count": 22,
   "id": "03dc1276-0efb-4c96-9c9a-1dc3abe8a4a5",
   "metadata": {
    "tags": []
   },
   "outputs": [
    {
     "name": "stdout",
     "output_type": "stream",
     "text": [
      "0.15189528465270996\n"
     ]
    }
   ],
   "source": [
    "def square_nums():\n",
    "     for i in range(5):\n",
    "            time.sleep(1)\n",
    "            print(f'Square : {i*i}')\n",
    "            \n",
    "def cube_nums():\n",
    "     for i in range(5):\n",
    "            time.sleep(1.5)\n",
    "            print(f'Cube : {i*i*i}')\n",
    "            \n",
    "## creating 2 processes\n",
    "\n",
    "\n",
    "if  __name__ == '__main__':\n",
    "    p1 = multiprocessing.Process(target= square_nums)\n",
    "    p2 = multiprocessing.Process(target = cube_nums)\n",
    "\n",
    "    ## start the process\n",
    "    t= time.time()\n",
    "    p1.start()\n",
    "    p2.start()\n",
    "\n",
    "    p1.join()\n",
    "    p2.join()\n",
    "\n",
    "    print(time.time()-t)"
   ]
  },
  {
   "cell_type": "code",
   "execution_count": 18,
   "id": "4a07f101-74c1-4a39-89be-6365d5bdadac",
   "metadata": {
    "tags": []
   },
   "outputs": [
    {
     "name": "stdout",
     "output_type": "stream",
     "text": [
      "Cube : 0\n",
      "Cube : 1\n",
      "Cube : 8\n",
      "Cube : 27\n",
      "Cube : 64\n"
     ]
    }
   ],
   "source": [
    "p1 = multiprocessing.Process(target = square_nums)\n",
    "\n",
    "p2 = multiprocessing.Process(target = cube_nums)\n",
    "\n",
    "## start the process\n",
    "t= time.time()\n",
    "p1.start()\n",
    "cube_nums()\n",
    "# p2.start()\n",
    "\n",
    "# p1.join()\n",
    "# p2.join()\n",
    "\n",
    "# print(time.time()-t)"
   ]
  },
  {
   "cell_type": "code",
   "execution_count": 2,
   "id": "fccf43d5-ec7e-441d-904b-c54fcbab8df8",
   "metadata": {
    "tags": []
   },
   "outputs": [],
   "source": [
    "import multiprocessing\n",
    "\n",
    "def func1():\n",
    "    for i in range(4):\n",
    "        time.sleep(1)\n",
    "        print(\"Function 1 executed\",flush=True)\n",
    "\n",
    "def func2():\n",
    "        for i in range(4):\n",
    "            time.sleep(1)\n",
    "            print(\"Function 2 executed\",flush=True)\n",
    "\n",
    "if __name__ == '__main__':\n",
    "    p1 = multiprocessing.Process(target=func1)\n",
    "    p2 = multiprocessing.Process(target=func2)\n",
    "\n",
    "    p1.start()\n",
    "    p2.start()\n",
    "\n",
    "    p1.join()\n",
    "    p2.join()\n",
    "    \n",
    "    display(func1())\n",
    "    display(func2())"
   ]
  },
  {
   "cell_type": "code",
   "execution_count": 8,
   "id": "9e0498bf-a4da-4506-83a8-b76c854bb689",
   "metadata": {
    "tags": []
   },
   "outputs": [
    {
     "name": "stdout",
     "output_type": "stream",
     "text": [
      "Number : 1\n",
      "Number : 2\n",
      "Number : 3\n",
      "Number : 4\n",
      "Number : 5\n",
      "Number : 6\n",
      "Number : 7\n",
      "Number : 8\n"
     ]
    }
   ],
   "source": [
    "from concurrent.futures import ThreadPoolExecutor\n",
    "import time\n",
    "\n",
    "def print_nums(number):\n",
    "    time.sleep(1)\n",
    "    return f'Number : {number}'\n",
    "\n",
    "numbers = [1,2,3,4,5,6,7,8]\n",
    "\n",
    "with ThreadPoolExecutor(max_workers = 3) as executor:\n",
    "    results = executor.map(print_nums,numbers)\n",
    "    \n",
    "for x in results:\n",
    "    print(x)"
   ]
  }
 ],
 "metadata": {
  "kernelspec": {
   "display_name": "Python 3 (ipykernel)",
   "language": "python",
   "name": "python3"
  },
  "language_info": {
   "codemirror_mode": {
    "name": "ipython",
    "version": 3
   },
   "file_extension": ".py",
   "mimetype": "text/x-python",
   "name": "python",
   "nbconvert_exporter": "python",
   "pygments_lexer": "ipython3",
   "version": "3.11.5"
  }
 },
 "nbformat": 4,
 "nbformat_minor": 5
}
