{
 "cells": [
  {
   "cell_type": "code",
   "execution_count": 30,
   "id": "89040830-554c-4bb7-9e2a-03edeee80aa5",
   "metadata": {
    "tags": []
   },
   "outputs": [
    {
     "data": {
      "text/plain": [
       "'Shivam'"
      ]
     },
     "execution_count": 30,
     "metadata": {},
     "output_type": "execute_result"
    }
   ],
   "source": [
    "## Encapsulation with getter and setter\n",
    "## Public, protected, Private variable or access modifiers\n",
    "\n",
    "class Person():\n",
    "    def __init__(self,name,age,gender):\n",
    "        self.name = name  ## public variable\n",
    "        self.age = age ## public variable\n",
    "        self.gender = gender\n",
    "    \n",
    "def get_name(person):  ##able to access public variables\n",
    "    return person.name\n",
    "\n",
    "person = Person(\"Shivam\", 22,'Male')\n",
    "\n",
    "get_name(person)"
   ]
  },
  {
   "cell_type": "code",
   "execution_count": 14,
   "id": "05b35e5f-d8e1-4c92-86a6-268a6415874d",
   "metadata": {
    "tags": []
   },
   "outputs": [
    {
     "data": {
      "text/plain": [
       "['__class__',\n",
       " '__delattr__',\n",
       " '__dict__',\n",
       " '__dir__',\n",
       " '__doc__',\n",
       " '__eq__',\n",
       " '__format__',\n",
       " '__ge__',\n",
       " '__getattribute__',\n",
       " '__getstate__',\n",
       " '__gt__',\n",
       " '__hash__',\n",
       " '__init__',\n",
       " '__init_subclass__',\n",
       " '__le__',\n",
       " '__lt__',\n",
       " '__module__',\n",
       " '__ne__',\n",
       " '__new__',\n",
       " '__reduce__',\n",
       " '__reduce_ex__',\n",
       " '__repr__',\n",
       " '__setattr__',\n",
       " '__sizeof__',\n",
       " '__str__',\n",
       " '__subclasshook__',\n",
       " '__weakref__',\n",
       " 'age',\n",
       " 'name']"
      ]
     },
     "execution_count": 14,
     "metadata": {},
     "output_type": "execute_result"
    }
   ],
   "source": [
    "dir(person)"
   ]
  },
  {
   "cell_type": "code",
   "execution_count": 28,
   "id": "c3d7e8d5-f1b6-4d10-8531-a1df3394126c",
   "metadata": {
    "tags": []
   },
   "outputs": [
    {
     "ename": "AttributeError",
     "evalue": "'Persons' object has no attribute 'name'",
     "output_type": "error",
     "traceback": [
      "\u001b[1;31m---------------------------------------------------------------------------\u001b[0m",
      "\u001b[1;31mAttributeError\u001b[0m                            Traceback (most recent call last)",
      "Cell \u001b[1;32mIn[28], line 12\u001b[0m\n\u001b[0;32m      9\u001b[0m \u001b[38;5;28;01mdef\u001b[39;00m \u001b[38;5;21mget_name\u001b[39m(person2):  \u001b[38;5;66;03m## not able to access private variables\u001b[39;00m\n\u001b[0;32m     10\u001b[0m     \u001b[38;5;28;01mreturn\u001b[39;00m person2\u001b[38;5;241m.\u001b[39mname\n\u001b[1;32m---> 12\u001b[0m get_name(person2)\n",
      "Cell \u001b[1;32mIn[28], line 10\u001b[0m, in \u001b[0;36mget_name\u001b[1;34m(person2)\u001b[0m\n\u001b[0;32m      9\u001b[0m \u001b[38;5;28;01mdef\u001b[39;00m \u001b[38;5;21mget_name\u001b[39m(person2):  \u001b[38;5;66;03m## not able to access private variables\u001b[39;00m\n\u001b[1;32m---> 10\u001b[0m     \u001b[38;5;28;01mreturn\u001b[39;00m person2\u001b[38;5;241m.\u001b[39mname\n",
      "\u001b[1;31mAttributeError\u001b[0m: 'Persons' object has no attribute 'name'"
     ]
    }
   ],
   "source": [
    "class Persons():\n",
    "    def __init__(self,name,age,gender):\n",
    "        self.__name = name  ## private variable\n",
    "        self.__age = age ## private variable\n",
    "        self.gender = gender\n",
    "\n",
    "person2 = Persons(\"Shivam\",22,'M')\n",
    "    \n",
    "def get_name(person2):  ## not able to access private variables\n",
    "    return person2.name\n",
    "\n",
    "get_name(person2)"
   ]
  },
  {
   "cell_type": "code",
   "execution_count": 16,
   "id": "bdb9f799-fab5-49ca-baec-a71c1c5b1f4f",
   "metadata": {
    "collapsed": true,
    "jupyter": {
     "outputs_hidden": true
    },
    "tags": []
   },
   "outputs": [
    {
     "data": {
      "text/plain": [
       "['_Persons__age',\n",
       " '_Persons__name',\n",
       " '__class__',\n",
       " '__delattr__',\n",
       " '__dict__',\n",
       " '__dir__',\n",
       " '__doc__',\n",
       " '__eq__',\n",
       " '__format__',\n",
       " '__ge__',\n",
       " '__getattribute__',\n",
       " '__getstate__',\n",
       " '__gt__',\n",
       " '__hash__',\n",
       " '__init__',\n",
       " '__init_subclass__',\n",
       " '__le__',\n",
       " '__lt__',\n",
       " '__module__',\n",
       " '__ne__',\n",
       " '__new__',\n",
       " '__reduce__',\n",
       " '__reduce_ex__',\n",
       " '__repr__',\n",
       " '__setattr__',\n",
       " '__sizeof__',\n",
       " '__str__',\n",
       " '__subclasshook__',\n",
       " '__weakref__',\n",
       " 'gender']"
      ]
     },
     "execution_count": 16,
     "metadata": {},
     "output_type": "execute_result"
    }
   ],
   "source": [
    "dir(person2)"
   ]
  },
  {
   "cell_type": "code",
   "execution_count": 32,
   "id": "dd3716be-b315-47e8-b9af-8e462aeb5b4f",
   "metadata": {
    "tags": []
   },
   "outputs": [
    {
     "data": {
      "text/plain": [
       "'Shivam'"
      ]
     },
     "execution_count": 32,
     "metadata": {},
     "output_type": "execute_result"
    }
   ],
   "source": [
    "class Employee(Person):\n",
    "    def __init__(self,name,age,gender):\n",
    "        super().__init__(name,age,gender)\n",
    "        \n",
    "employee = Employee('Shivam',23,'Male')\n",
    "employee.name"
   ]
  },
  {
   "cell_type": "code",
   "execution_count": 45,
   "id": "78293a13-d95e-4619-8ab6-8c0592481d5c",
   "metadata": {
    "tags": []
   },
   "outputs": [
    {
     "name": "stdout",
     "output_type": "stream",
     "text": [
      "Shivam\n",
      "22\n",
      "Chilgoza\n",
      "35\n"
     ]
    }
   ],
   "source": [
    "## Encapsulation with getter and setter\n",
    "\n",
    "class Person:\n",
    "    def __init__(self,name,age):\n",
    "        self.__name = name ## Private access modifiers\n",
    "        self.__age = age ## Private\n",
    "        \n",
    "    ## getter method for name\n",
    "    def get_name(self):\n",
    "        return self.__name\n",
    "    \n",
    "    ## setter method for name\n",
    "    \n",
    "    def set_name(self,name):\n",
    "        self.__name = name\n",
    "        \n",
    "    ## getter method for age\n",
    "    def get_age(self):\n",
    "        return self.__age\n",
    "    \n",
    "    ## setter method for name\n",
    "    \n",
    "    def set_age(self,age):\n",
    "        if(age>0):\n",
    "            self.__age = age\n",
    "        else:\n",
    "            print(\"Age can not be negative \")\n",
    "        \n",
    "person = Person(\"Shivam\",22)\n",
    "\n",
    "print (person.get_name())\n",
    "print(person.get_age())\n",
    "\n",
    "person.set_name(\"Chilgoza\")\n",
    "print(person.get_name())\n",
    "\n",
    "person.set_age(35)\n",
    "print(person.get_age())"
   ]
  }
 ],
 "metadata": {
  "kernelspec": {
   "display_name": "Python 3 (ipykernel)",
   "language": "python",
   "name": "python3"
  },
  "language_info": {
   "codemirror_mode": {
    "name": "ipython",
    "version": 3
   },
   "file_extension": ".py",
   "mimetype": "text/x-python",
   "name": "python",
   "nbconvert_exporter": "python",
   "pygments_lexer": "ipython3",
   "version": "3.11.5"
  }
 },
 "nbformat": 4,
 "nbformat_minor": 5
}
