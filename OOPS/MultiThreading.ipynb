{
 "cells": [
  {
   "cell_type": "code",
   "execution_count": 1,
   "id": "42ba3b5b-7044-4d89-b68d-827e045003b1",
   "metadata": {},
   "outputs": [],
   "source": [
    "## Multithreading\n",
    "## we can use multithreading whenever there is an I/O bound task (e.g File operation and network requests)\n",
    "##  Whenever there is concurrent operation"
   ]
  },
  {
   "cell_type": "code",
   "execution_count": 7,
   "id": "67e8c4dc-8725-42a0-b65f-583f383d11c5",
   "metadata": {
    "tags": []
   },
   "outputs": [],
   "source": [
    "import threading\n",
    "import time "
   ]
  },
  {
   "cell_type": "code",
   "execution_count": 18,
   "id": "f6695f98-b317-42af-99a6-febcb444c5ff",
   "metadata": {
    "tags": []
   },
   "outputs": [],
   "source": [
    "def print_nums():\n",
    "    for i in range(5):\n",
    "        time.sleep(2)\n",
    "        print(f'Number : {i}')\n",
    "        \n",
    "def print_letters():\n",
    "    for i in \"abcde\":\n",
    "        time.sleep(2)\n",
    "        print(f'Letters : {i}')\n",
    "        \n",
    "## create 2 threads\n",
    "\n",
    "t1 = threading.Thread(target = print_nums)\n",
    "t2 = threading.Thread(target = print_letters)"
   ]
  },
  {
   "cell_type": "code",
   "execution_count": 20,
   "id": "6f96abbf-e6ca-4a66-b706-e129b8016c53",
   "metadata": {
    "tags": []
   },
   "outputs": [
    {
     "name": "stdout",
     "output_type": "stream",
     "text": [
      "Number : 0\n",
      "Number : 1\n",
      "Number : 2\n",
      "Number : 3\n",
      "Number : 4\n",
      "Letters : a\n",
      "Letters : b\n",
      "Letters : c\n",
      "Letters : d\n",
      "Letters : e\n",
      "Execution time: 20.005959033966064\n"
     ]
    }
   ],
   "source": [
    "t = time.time()\n",
    "\n",
    "print_nums()\n",
    "print_letters()\n",
    "\n",
    "print(f'Execution time: {time.time()-t}')"
   ]
  },
  {
   "cell_type": "code",
   "execution_count": 19,
   "id": "2784b916-3fe3-44b6-99af-0566b67c3077",
   "metadata": {
    "tags": []
   },
   "outputs": [
    {
     "name": "stdout",
     "output_type": "stream",
     "text": [
      "Number : 0\n",
      "Letters : a\n",
      "Number : 1\n",
      "Letters : b\n",
      "Number : 2Letters : c\n",
      "\n",
      "Letters : d\n",
      "Number : 3\n",
      "Number : 4Letters : e\n",
      "\n",
      "Execution time: 10.007753372192383\n"
     ]
    }
   ],
   "source": [
    "t = time.time()\n",
    "\n",
    "t1.start()\n",
    "t2.start()\n",
    "\n",
    "\n",
    "##waiting to finish execution of thread\n",
    "t1.join()\n",
    "t2.join()\n",
    "\n",
    "print(f'Execution time: {time.time()-t}')"
   ]
  },
  {
   "cell_type": "code",
   "execution_count": null,
   "id": "8c4ed6e3-cc72-471f-805c-47994c3aa99e",
   "metadata": {},
   "outputs": [],
   "source": []
  }
 ],
 "metadata": {
  "kernelspec": {
   "display_name": "Python 3 (ipykernel)",
   "language": "python",
   "name": "python3"
  },
  "language_info": {
   "codemirror_mode": {
    "name": "ipython",
    "version": 3
   },
   "file_extension": ".py",
   "mimetype": "text/x-python",
   "name": "python",
   "nbconvert_exporter": "python",
   "pygments_lexer": "ipython3",
   "version": "3.11.5"
  }
 },
 "nbformat": 4,
 "nbformat_minor": 5
}
