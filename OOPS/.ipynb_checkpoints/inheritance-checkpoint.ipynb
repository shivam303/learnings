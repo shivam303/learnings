{
 "cells": [
  {
   "cell_type": "code",
   "execution_count": 1,
   "id": "7c0f7366-0fea-4ea6-aefb-b1bee133f998",
   "metadata": {
    "tags": []
   },
   "outputs": [],
   "source": [
    "## Single Inheritance\n",
    "## Parent class\n",
    "class car:\n",
    "    def __init__(self,windows,doors,enginetype):\n",
    "        self.windows = windows\n",
    "        self.doors = doors\n",
    "        self.enginetype = enginetype\n",
    "        \n",
    "    def drive(self):\n",
    "        print(f\"The person will drive the {self.enginetype} car\")\n",
    "    \n",
    "car1= car(4,5,\"petrol\")"
   ]
  },
  {
   "cell_type": "code",
   "execution_count": 4,
   "id": "a1cb4e1d-6a22-440f-9e75-a91d3d4963d6",
   "metadata": {
    "tags": []
   },
   "outputs": [
    {
     "name": "stdout",
     "output_type": "stream",
     "text": [
      "The person will drive the petrol car\n"
     ]
    }
   ],
   "source": [
    "car1.drive()"
   ]
  },
  {
   "cell_type": "code",
   "execution_count": 11,
   "id": "8c3dc1d1-c046-4180-80ac-abd3193c0e28",
   "metadata": {
    "tags": []
   },
   "outputs": [],
   "source": [
    "\n",
    "class Tesla(car):\n",
    "    def __init__(self,windows,doors,enginetype,is_selfdriving):\n",
    "        super().__init__(windows,doors,enginetype)\n",
    "        self.is_selfdriving = is_selfdriving\n",
    "        \n",
    "    def selfdriving(self):\n",
    "        print(f'Tesla supports selfdriving : {self.is_selfdriving}')"
   ]
  },
  {
   "cell_type": "code",
   "execution_count": 12,
   "id": "17265576-91eb-456c-9c04-9b97818ff52c",
   "metadata": {
    "tags": []
   },
   "outputs": [],
   "source": [
    "tesla1 = Tesla(2,4,'electric',True)"
   ]
  },
  {
   "cell_type": "code",
   "execution_count": 20,
   "id": "20fe8848-ea2f-4113-8d1e-4ed47320dd15",
   "metadata": {
    "tags": []
   },
   "outputs": [
    {
     "name": "stdout",
     "output_type": "stream",
     "text": [
      "True\n",
      "The person will drive the electric car\n"
     ]
    }
   ],
   "source": [
    "print(tesla1.is_selfdriving)\n",
    "tesla1.drive()"
   ]
  },
  {
   "cell_type": "code",
   "execution_count": 40,
   "id": "d850f77d-75f8-4d45-9e40-31a4cff36ea1",
   "metadata": {
    "tags": []
   },
   "outputs": [],
   "source": [
    "## Multiple Inheritance\n",
    "## when a class inherits from more than one base class\n",
    "## base class 1\n",
    "class Animal:\n",
    "    def __init__(self,name):\n",
    "        self.name = name\n",
    "    def speak(self):  \n",
    "        print('Subclasses must must implement this method')\n",
    "        \n",
    "## base class 2\n",
    "class Pet:\n",
    "    def __init__(self,owner):\n",
    "        self.owner = owner\n",
    "        \n",
    "## inherited class\n",
    "\n",
    "class Dog(Animal,Pet):\n",
    "    def __init__(self,name,owner):\n",
    "        Animal.__init__(self,name)\n",
    "        Pet.__init__(self,owner)\n",
    "        \n",
    "        def speak(self):\n",
    "            return f'{self.name} says bhoww'"
   ]
  },
  {
   "cell_type": "code",
   "execution_count": 41,
   "id": "cf7e521b-6963-4b5a-b7b6-1e88dde96301",
   "metadata": {
    "tags": []
   },
   "outputs": [
    {
     "name": "stdout",
     "output_type": "stream",
     "text": [
      "Subclasses must must implement this method\n"
     ]
    }
   ],
   "source": [
    "dog = Dog('Heera','Shivam')\n",
    "\n",
    "dog.speak()"
   ]
  }
 ],
 "metadata": {
  "kernelspec": {
   "display_name": "Python 3 (ipykernel)",
   "language": "python",
   "name": "python3"
  },
  "language_info": {
   "codemirror_mode": {
    "name": "ipython",
    "version": 3
   },
   "file_extension": ".py",
   "mimetype": "text/x-python",
   "name": "python",
   "nbconvert_exporter": "python",
   "pygments_lexer": "ipython3",
   "version": "3.11.5"
  }
 },
 "nbformat": 4,
 "nbformat_minor": 5
}
