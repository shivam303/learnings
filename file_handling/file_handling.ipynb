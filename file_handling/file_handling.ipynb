{
 "cells": [
  {
   "cell_type": "code",
   "execution_count": 15,
   "id": "c403c00b-57ea-4254-a69a-925cae2f556c",
   "metadata": {
    "tags": []
   },
   "outputs": [
    {
     "name": "stdout",
     "output_type": "stream",
     "text": [
      "Hello, How are you?\n",
      "This is demo text\n",
      "Shut up \n",
      "Go and do some workout\n",
      "high tower is shitKya bolti public!\n",
      "This is a new line\n",
      "Kya bolti public!\n",
      "This is a new line\n"
     ]
    }
   ],
   "source": [
    "## read entire content\n",
    "with open('example.txt','r') as file:\n",
    "    content = file.read()\n",
    "    print(content)\n",
    "    "
   ]
  },
  {
   "cell_type": "code",
   "execution_count": 16,
   "id": "b072ecb7-1651-4aea-b3b8-aad092cb4949",
   "metadata": {
    "tags": []
   },
   "outputs": [
    {
     "name": "stdout",
     "output_type": "stream",
     "text": [
      "Hello, How are you?\n",
      "This is demo text\n",
      "Shut up\n",
      "Go and do some workout\n",
      "high tower is shitKya bolti public!\n",
      "This is a new line\n",
      "Kya bolti public!\n",
      "This is a new line\n"
     ]
    }
   ],
   "source": [
    "## read line by line\n",
    "\n",
    "with open('example.txt','r') as file:\n",
    "    for line in file:\n",
    "        print(line.strip())"
   ]
  },
  {
   "cell_type": "code",
   "execution_count": 2,
   "id": "6ff3a802-b3ce-4f00-a7b5-97556f96f7bb",
   "metadata": {
    "tags": []
   },
   "outputs": [],
   "source": [
    "## writting in a file with overwritting\n",
    "\n",
    "with open('example.txt','w') as file:\n",
    "    file.write('Kya bolti public!\\n')\n",
    "    file.write('This is a new line\\n')"
   ]
  },
  {
   "cell_type": "code",
   "execution_count": 17,
   "id": "0facdf5a-aa38-49c0-a155-b3af06417e21",
   "metadata": {
    "tags": []
   },
   "outputs": [],
   "source": [
    "## writting in a file without overwritting\n",
    "\n",
    "with open('example.txt','a') as file:\n",
    "    file.write('Kya bolti public!\\n')\n",
    "    file.write('This is a new line\\n')"
   ]
  },
  {
   "cell_type": "code",
   "execution_count": 18,
   "id": "4dd8a557-f752-4136-a21f-7d263bfce2b9",
   "metadata": {
    "tags": []
   },
   "outputs": [],
   "source": [
    "## writting a list of lines\n",
    "\n",
    "lines =['First line\\n','Second line\\n','Third line\\n','Fourth line\\n']\n",
    "\n",
    "with open('example.txt','a') as file:\n",
    "    file.writelines(lines)\n"
   ]
  },
  {
   "cell_type": "code",
   "execution_count": 19,
   "id": "d143697e-f45b-404c-991a-940ec12da89a",
   "metadata": {
    "tags": []
   },
   "outputs": [],
   "source": [
    "## writting bytes\n",
    "\n",
    "data = b'\\x00\\x01\\x02\\x03\\x04'\n",
    "\n",
    "with open('example.bin','wb') as file:\n",
    "    file.write(data)"
   ]
  },
  {
   "cell_type": "code",
   "execution_count": 20,
   "id": "bfc88770-7277-48e2-96aa-a5fdb91e1a48",
   "metadata": {
    "tags": []
   },
   "outputs": [
    {
     "name": "stdout",
     "output_type": "stream",
     "text": [
      "b'\\x00\\x01\\x02\\x03\\x04'\n"
     ]
    }
   ],
   "source": [
    "## reading bytes\n",
    "\n",
    "with open('example.bin','rb') as file:\n",
    "    content = file.read()\n",
    "    print(content)"
   ]
  },
  {
   "cell_type": "code",
   "execution_count": 26,
   "id": "9a3ae685-d3c9-46f7-9fdf-d88c3b19c103",
   "metadata": {
    "tags": []
   },
   "outputs": [
    {
     "name": "stdout",
     "output_type": "stream",
     "text": [
      "Hello World \n",
      "Key value pair \n",
      "open ai\n",
      "\n"
     ]
    }
   ],
   "source": [
    "## reading and writting in a file\n",
    "## with w+ we can write in a exixting file and if that file doesn't exist it will create that file\n",
    "\n",
    "with open ('example2.txt','w+') as file:\n",
    "    file.write('Hello World \\n')\n",
    "    file.write('Key value pair \\n')\n",
    "    file.write('open ai\\n')\n",
    "    \n",
    "    file.seek(0)\n",
    "    \n",
    "    content = file.read()\n",
    "    print(content)"
   ]
  },
  {
   "cell_type": "code",
   "execution_count": null,
   "id": "7c28dfff-f7e6-4cb8-a30d-fd2126d8d904",
   "metadata": {},
   "outputs": [],
   "source": []
  }
 ],
 "metadata": {
  "kernelspec": {
   "display_name": "Python 3 (ipykernel)",
   "language": "python",
   "name": "python3"
  },
  "language_info": {
   "codemirror_mode": {
    "name": "ipython",
    "version": 3
   },
   "file_extension": ".py",
   "mimetype": "text/x-python",
   "name": "python",
   "nbconvert_exporter": "python",
   "pygments_lexer": "ipython3",
   "version": "3.11.5"
  }
 },
 "nbformat": 4,
 "nbformat_minor": 5
}
