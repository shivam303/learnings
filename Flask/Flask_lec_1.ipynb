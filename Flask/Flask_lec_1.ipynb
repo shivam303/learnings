{
 "cells": [
  {
   "cell_type": "code",
   "execution_count": null,
   "id": "355cee57-95bf-4321-a783-0c3bb92a66bd",
   "metadata": {
    "tags": []
   },
   "outputs": [],
   "source": [
    "## Flask is a complete web framework which is created with the help of python programming language\n",
    "## WSGI Web Server Gateway Interface\n",
    "\n",
    "## JINJA 2 Template engine\n",
    "## It is a web templete engine (It combines a web template with a data source)\n",
    "\n"
   ]
  },
  {
   "cell_type": "code",
   "execution_count": null,
   "id": "a0a806fd-0eaa-4279-abcf-fed0f8ca25f6",
   "metadata": {
    "tags": []
   },
   "outputs": [],
   "source": [
    "from flask import Flask"
   ]
  },
  {
   "cell_type": "code",
   "execution_count": null,
   "id": "6c91b5d4-ed41-48dc-aed2-6497e4003cb2",
   "metadata": {
    "tags": []
   },
   "outputs": [],
   "source": [
    "app = Flask(__name__)"
   ]
  },
  {
   "cell_type": "code",
   "execution_count": 3,
   "id": "9718bb7d-3b27-45de-802f-7b02eabe685c",
   "metadata": {
    "tags": []
   },
   "outputs": [
    {
     "data": {
      "text/plain": [
       "'C:\\\\Users\\\\shivam\\\\Udemy Python\\\\Flask'"
      ]
     },
     "execution_count": 3,
     "metadata": {},
     "output_type": "execute_result"
    }
   ],
   "source": [
    "pwd"
   ]
  }
 ],
 "metadata": {
  "kernelspec": {
   "display_name": "Python 3 (ipykernel)",
   "language": "python",
   "name": "python3"
  },
  "language_info": {
   "codemirror_mode": {
    "name": "ipython",
    "version": 3
   },
   "file_extension": ".py",
   "mimetype": "text/x-python",
   "name": "python",
   "nbconvert_exporter": "python",
   "pygments_lexer": "ipython3",
   "version": "3.11.5"
  }
 },
 "nbformat": 4,
 "nbformat_minor": 5
}
