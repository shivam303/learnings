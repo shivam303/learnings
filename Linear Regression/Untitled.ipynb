{
 "cells": [
  {
   "cell_type": "code",
   "execution_count": 34,
   "id": "25dbffb6-85ab-4892-9e34-d076da79005a",
   "metadata": {},
   "outputs": [
    {
     "name": "stdout",
     "output_type": "stream",
     "text": [
      "Process Initiated....\n",
      "https://api.remitly.io/v3/calculator/estimate?conduit=USA%3AUSD-FRA%3AEUR&anchor=SEND&amount=100&purpose=OTHER&strict_promo=false\n"
     ]
    },
    {
     "name": "stderr",
     "output_type": "stream",
     "text": [
      "C:\\Users\\shivam\\anaconda3\\Lib\\site-packages\\urllib3\\connectionpool.py:1056: InsecureRequestWarning: Unverified HTTPS request is being made to host 'api.remitly.io'. Adding certificate verification is strongly advised. See: https://urllib3.readthedocs.io/en/1.26.x/advanced-usage.html#ssl-warnings\n",
      "  warnings.warn(\n"
     ]
    },
    {
     "name": "stdout",
     "output_type": "stream",
     "text": [
      "USD ---> EUR\n",
      "exception... 'NoneType' object is not subscriptable\n",
      "https://api.remitly.io/v3/calculator/estimate?conduit=USA%3AUSD-IND%3AINR&anchor=SEND&amount=100&purpose=OTHER&strict_promo=false\n"
     ]
    },
    {
     "name": "stderr",
     "output_type": "stream",
     "text": [
      "C:\\Users\\shivam\\anaconda3\\Lib\\site-packages\\urllib3\\connectionpool.py:1056: InsecureRequestWarning: Unverified HTTPS request is being made to host 'api.remitly.io'. Adding certificate verification is strongly advised. See: https://urllib3.readthedocs.io/en/1.26.x/advanced-usage.html#ssl-warnings\n",
      "  warnings.warn(\n"
     ]
    },
    {
     "name": "stdout",
     "output_type": "stream",
     "text": [
      "USD ---> INR\n",
      "exception... 'NoneType' object is not subscriptable\n",
      "https://api.remitly.io/v3/calculator/estimate?conduit=USA%3AUSD-MEX%3AMXN&anchor=SEND&amount=100&purpose=OTHER&strict_promo=false\n"
     ]
    },
    {
     "name": "stderr",
     "output_type": "stream",
     "text": [
      "C:\\Users\\shivam\\anaconda3\\Lib\\site-packages\\urllib3\\connectionpool.py:1056: InsecureRequestWarning: Unverified HTTPS request is being made to host 'api.remitly.io'. Adding certificate verification is strongly advised. See: https://urllib3.readthedocs.io/en/1.26.x/advanced-usage.html#ssl-warnings\n",
      "  warnings.warn(\n"
     ]
    },
    {
     "name": "stdout",
     "output_type": "stream",
     "text": [
      "USD ---> MXN\n",
      "pay_out_method PUSH_TO_CARD\n",
      "----------------------------------\n",
      "promotional_exchange_rate 18.63\n",
      "total_fee_amount 1.99\n",
      "pay_out_method CASH_PICKUP\n",
      "----------------------------------\n",
      "promotional_exchange_rate 18.63\n",
      "total_fee_amount 3.99\n",
      "pay_out_method BANK_DEPOSIT\n",
      "----------------------------------\n",
      "promotional_exchange_rate 18.63\n",
      "total_fee_amount 1.99\n",
      "https://api.remitly.io/v3/calculator/estimate?conduit=USA%3AUSD-COL%3ACOP&anchor=SEND&amount=100&purpose=OTHER&strict_promo=false\n"
     ]
    },
    {
     "name": "stderr",
     "output_type": "stream",
     "text": [
      "C:\\Users\\shivam\\anaconda3\\Lib\\site-packages\\urllib3\\connectionpool.py:1056: InsecureRequestWarning: Unverified HTTPS request is being made to host 'api.remitly.io'. Adding certificate verification is strongly advised. See: https://urllib3.readthedocs.io/en/1.26.x/advanced-usage.html#ssl-warnings\n",
      "  warnings.warn(\n"
     ]
    },
    {
     "name": "stdout",
     "output_type": "stream",
     "text": [
      "USD ---> COP\n",
      "exception... 'NoneType' object is not subscriptable\n",
      "Process Complete....\n"
     ]
    }
   ],
   "source": [
    "import json\n",
    "\n",
    "import requests\n",
    "\n",
    "import time\n",
    "\n",
    "import ssl\n",
    "\n",
    "context = ssl._create_unverified_context()\n",
    "\n",
    "\n",
    "countryList = []\n",
    "\n",
    "\n",
    "class county:\n",
    "\n",
    "    def __init__(self, sourceisocode, sourcecpccode,destinationisocode,destinationcpccode,amount):\n",
    "\n",
    "        self.sourceisocode = sourceisocode\n",
    "\n",
    "        self.sourcecpccode = sourcecpccode\n",
    "\n",
    "        self.destinationisocode=destinationisocode\n",
    "\n",
    "        self.destinationcpccode=destinationcpccode\n",
    "\n",
    "        self.amount=amount\n",
    "\n",
    " \n",
    "\n",
    "       \n",
    "\n",
    "countryList.append(county('USA','USD','FRA','EUR','100'))\n",
    "\n",
    "countryList.append(county('USA','USD','IND','INR','100'))\n",
    "\n",
    "countryList.append(county('USA','USD','MEX','MXN','100'))\n",
    "\n",
    "countryList.append(county('USA','USD','COL','COP','100'))\n",
    "\n",
    "\n",
    "print(\"Process Initiated....\")\n",
    "\n",
    "\n",
    "for country in countryList:\n",
    "\n",
    "    try:\n",
    "        api_url = f\"https://api.remitly.io/v3/calculator/estimate?conduit={country.sourceisocode}%3A{country.sourcecpccode}-{country.destinationisocode}%3A{country.destinationcpccode}&anchor=SEND&amount={country.amount}&purpose=OTHER&strict_promo=false\"\n",
    "        \n",
    "        print(api_url)\n",
    "\n",
    "       \n",
    "\n",
    "        time.sleep(5)\n",
    "\n",
    "       \n",
    "\n",
    "        response = requests.get(api_url, verify=False).json()\n",
    "\n",
    "        print(country.sourcecpccode,\"--->\",country.destinationcpccode)\n",
    "\n",
    "       \n",
    "\n",
    "        time.sleep(5)\n",
    "\n",
    "       \n",
    "\n",
    "        #print(\"promotional_exchange_rate\",response[\"estimate\"][\"exchange_rate\"][\"promotional_exchange_rate\"])\n",
    "\n",
    "        #print(\"total_fee_amount\",response[\"estimate\"][\"fee\"][\"total_fee_amount\"])\n",
    "\n",
    "        esList = response[\"pay_out_price_estimates\"][\"estimates\"]\n",
    "\n",
    "        #print(esList)\n",
    "\n",
    "        for val in esList:\n",
    "\n",
    "            print(\"pay_out_method\",val[\"pay_out_method\"])\n",
    "\n",
    "            print (\"----------------------------------\")\n",
    "\n",
    "            print(\"promotional_exchange_rate\",val[\"exchange_rate\"][\"promotional_exchange_rate\"])\n",
    "\n",
    "            print(\"total_fee_amount\",val[\"fee\"][\"total_fee_amount\"])\n",
    "\n",
    "    except Exception as e:\n",
    "\n",
    "        print(\"exception...\",e)\n",
    "\n",
    "        continue\n",
    "\n",
    "print(\"Process Complete....\")"
   ]
  },
  {
   "cell_type": "code",
   "execution_count": 36,
   "id": "20458aa3-1983-4f76-bc1c-a14de3aee71c",
   "metadata": {},
   "outputs": [
    {
     "name": "stdout",
     "output_type": "stream",
     "text": [
      "pay_out_method PUSH_TO_CARD\n",
      "----------------------------------\n",
      "promotional_exchange_rate 18.63\n",
      "total_fee_amount 1.99\n",
      "pay_out_method CASH_PICKUP\n",
      "----------------------------------\n",
      "promotional_exchange_rate 18.63\n",
      "total_fee_amount 3.99\n",
      "pay_out_method BANK_DEPOSIT\n",
      "----------------------------------\n",
      "promotional_exchange_rate 18.63\n",
      "total_fee_amount 1.99\n"
     ]
    }
   ],
   "source": [
    "for val in esList:\n",
    "\n",
    "        print(\"pay_out_method\",val[\"pay_out_method\"])\n",
    "\n",
    "        print (\"----------------------------------\")\n",
    "\n",
    "        print(\"promotional_exchange_rate\",val[\"exchange_rate\"][\"promotional_exchange_rate\"])\n",
    "\n",
    "        print(\"total_fee_amount\",val[\"fee\"][\"total_fee_amount\"])"
   ]
  },
  {
   "cell_type": "code",
   "execution_count": 16,
   "id": "58710970-c734-4822-b457-ea1acf4f6303",
   "metadata": {},
   "outputs": [],
   "source": [
    "class County:\n",
    "    def __init__(self, sourceisocode, sourcecpccode, destinationisocode, destinationcpccode, amount):\n",
    "        self.sourceisocode = sourceisocode\n",
    "        self.sourcecpccode = sourcecpccode\n",
    "        self.destinationisocode = destinationisocode\n",
    "        self.destinationcpccode = destinationcpccode\n",
    "        self.amount = amount"
   ]
  },
  {
   "cell_type": "code",
   "execution_count": 18,
   "id": "ce92edef-7291-405c-8f80-588ab1579751",
   "metadata": {},
   "outputs": [],
   "source": [
    "County1 = County('USA', 'USD', 'FRA', 'EUR', '100')"
   ]
  }
 ],
 "metadata": {
  "kernelspec": {
   "display_name": "Python 3 (ipykernel)",
   "language": "python",
   "name": "python3"
  },
  "language_info": {
   "codemirror_mode": {
    "name": "ipython",
    "version": 3
   },
   "file_extension": ".py",
   "mimetype": "text/x-python",
   "name": "python",
   "nbconvert_exporter": "python",
   "pygments_lexer": "ipython3",
   "version": "3.11.5"
  }
 },
 "nbformat": 4,
 "nbformat_minor": 5
}
