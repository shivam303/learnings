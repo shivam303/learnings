{
 "cells": [
  {
   "cell_type": "markdown",
   "id": "1344665c",
   "metadata": {},
   "source": [
    "# Module: File Handling Assignments\n",
    "## Lesson: File Handling and Operations\n",
    "### Assignment 1: Reading a File\n",
    "\n",
    "Write a function that reads the contents of a file named `sample.txt` and prints each line."
   ]
  },
  {
   "cell_type": "code",
   "execution_count": 3,
   "id": "c9270daf",
   "metadata": {
    "tags": []
   },
   "outputs": [
    {
     "name": "stdout",
     "output_type": "stream",
     "text": [
      "Counter It was 7 minutes after midnight.\n",
      "The dog was lying on the grass in the middle of the lawn in front of Mrs Shearsâ€™ house.\n",
      "Its eyes were closed.\n",
      "It looked as if it was running on its side, the way dogs run when they think they are chasing a cat in a dream.\n",
      "But the dog was not running or asleep.\n",
      "The dog was dead.\n",
      "There was a garden fork sticking out of the dog.\n",
      "The points of the fork must have gone all the way through the dog and into the ground because the fork had not fallen over.\n"
     ]
    }
   ],
   "source": [
    "def read_file(filename):\n",
    "    with open(filename, 'r') as file:\n",
    "        for line in file:\n",
    "            print(line.strip())\n",
    "\n",
    "# Test\n",
    "read_file('sample.txt')"
   ]
  },
  {
   "cell_type": "markdown",
   "id": "2567787d",
   "metadata": {},
   "source": [
    "### Assignment 2: Writing to a File\n",
    "\n",
    "Write a function that writes a list of strings to a file named `output.txt`, with each string on a new line."
   ]
  },
  {
   "cell_type": "code",
   "execution_count": 4,
   "id": "37430896",
   "metadata": {
    "tags": []
   },
   "outputs": [],
   "source": [
    "def write_file(lines, filename):\n",
    "    with open(filename, 'w') as file:\n",
    "        for line in lines:\n",
    "            file.write(line + '\\n')\n",
    "\n",
    "# Test\n",
    "write_file(['Hello', 'World'], 'output.txt')"
   ]
  },
  {
   "cell_type": "markdown",
   "id": "06be5b52",
   "metadata": {},
   "source": [
    "### Assignment 3: Copying a File\n",
    "\n",
    "Write a function that copies the contents of a file named `source.txt` to a new file named `destination.txt`."
   ]
  },
  {
   "cell_type": "code",
   "execution_count": 5,
   "id": "f79eba52",
   "metadata": {
    "tags": []
   },
   "outputs": [
    {
     "ename": "FileNotFoundError",
     "evalue": "[Errno 2] No such file or directory: 'source.txt'",
     "output_type": "error",
     "traceback": [
      "\u001b[1;31m---------------------------------------------------------------------------\u001b[0m",
      "\u001b[1;31mFileNotFoundError\u001b[0m                         Traceback (most recent call last)",
      "Cell \u001b[1;32mIn[5], line 7\u001b[0m\n\u001b[0;32m      4\u001b[0m             dest\u001b[38;5;241m.\u001b[39mwrite(src\u001b[38;5;241m.\u001b[39mread())\n\u001b[0;32m      6\u001b[0m \u001b[38;5;66;03m#Test\u001b[39;00m\n\u001b[1;32m----> 7\u001b[0m copy_file(\u001b[38;5;124m'\u001b[39m\u001b[38;5;124msource.txt\u001b[39m\u001b[38;5;124m'\u001b[39m, \u001b[38;5;124m'\u001b[39m\u001b[38;5;124mdestination.txt\u001b[39m\u001b[38;5;124m'\u001b[39m)\n",
      "Cell \u001b[1;32mIn[5], line 2\u001b[0m, in \u001b[0;36mcopy_file\u001b[1;34m(source, destination)\u001b[0m\n\u001b[0;32m      1\u001b[0m \u001b[38;5;28;01mdef\u001b[39;00m \u001b[38;5;21mcopy_file\u001b[39m(source, destination):\n\u001b[1;32m----> 2\u001b[0m     \u001b[38;5;28;01mwith\u001b[39;00m \u001b[38;5;28mopen\u001b[39m(source, \u001b[38;5;124m'\u001b[39m\u001b[38;5;124mr\u001b[39m\u001b[38;5;124m'\u001b[39m) \u001b[38;5;28;01mas\u001b[39;00m src:\n\u001b[0;32m      3\u001b[0m         \u001b[38;5;28;01mwith\u001b[39;00m \u001b[38;5;28mopen\u001b[39m(destination, \u001b[38;5;124m'\u001b[39m\u001b[38;5;124mw\u001b[39m\u001b[38;5;124m'\u001b[39m) \u001b[38;5;28;01mas\u001b[39;00m dest:\n\u001b[0;32m      4\u001b[0m             dest\u001b[38;5;241m.\u001b[39mwrite(src\u001b[38;5;241m.\u001b[39mread())\n",
      "File \u001b[1;32m~\\anaconda3\\Lib\\site-packages\\IPython\\core\\interactiveshell.py:286\u001b[0m, in \u001b[0;36m_modified_open\u001b[1;34m(file, *args, **kwargs)\u001b[0m\n\u001b[0;32m    279\u001b[0m \u001b[38;5;28;01mif\u001b[39;00m file \u001b[38;5;129;01min\u001b[39;00m {\u001b[38;5;241m0\u001b[39m, \u001b[38;5;241m1\u001b[39m, \u001b[38;5;241m2\u001b[39m}:\n\u001b[0;32m    280\u001b[0m     \u001b[38;5;28;01mraise\u001b[39;00m \u001b[38;5;167;01mValueError\u001b[39;00m(\n\u001b[0;32m    281\u001b[0m         \u001b[38;5;124mf\u001b[39m\u001b[38;5;124m\"\u001b[39m\u001b[38;5;124mIPython won\u001b[39m\u001b[38;5;124m'\u001b[39m\u001b[38;5;124mt let you open fd=\u001b[39m\u001b[38;5;132;01m{\u001b[39;00mfile\u001b[38;5;132;01m}\u001b[39;00m\u001b[38;5;124m by default \u001b[39m\u001b[38;5;124m\"\u001b[39m\n\u001b[0;32m    282\u001b[0m         \u001b[38;5;124m\"\u001b[39m\u001b[38;5;124mas it is likely to crash IPython. If you know what you are doing, \u001b[39m\u001b[38;5;124m\"\u001b[39m\n\u001b[0;32m    283\u001b[0m         \u001b[38;5;124m\"\u001b[39m\u001b[38;5;124myou can use builtins\u001b[39m\u001b[38;5;124m'\u001b[39m\u001b[38;5;124m open.\u001b[39m\u001b[38;5;124m\"\u001b[39m\n\u001b[0;32m    284\u001b[0m     )\n\u001b[1;32m--> 286\u001b[0m \u001b[38;5;28;01mreturn\u001b[39;00m io_open(file, \u001b[38;5;241m*\u001b[39margs, \u001b[38;5;241m*\u001b[39m\u001b[38;5;241m*\u001b[39mkwargs)\n",
      "\u001b[1;31mFileNotFoundError\u001b[0m: [Errno 2] No such file or directory: 'source.txt'"
     ]
    }
   ],
   "source": [
    "def copy_file(source, destination):\n",
    "    with open(source, 'r') as src:\n",
    "        with open(destination, 'w') as dest:\n",
    "            dest.write(src.read())\n",
    "\n",
    "#Test\n",
    "copy_file('source.txt', 'destination.txt')"
   ]
  },
  {
   "cell_type": "markdown",
   "id": "ae90cc33",
   "metadata": {},
   "source": [
    "### Assignment 4: Appending to a File\n",
    "\n",
    "Write a function that appends a given string to the end of a file named `log.txt`."
   ]
  },
  {
   "cell_type": "code",
   "execution_count": 6,
   "id": "0ab1b379",
   "metadata": {
    "tags": []
   },
   "outputs": [],
   "source": [
    "def append_to_file(text, filename):\n",
    "    with open(filename, 'a') as file:\n",
    "        file.write(text + '\\n')\n",
    "\n",
    "# Test\n",
    "append_to_file('This is a new log entry.', 'log.txt')"
   ]
  },
  {
   "cell_type": "markdown",
   "id": "4d638388",
   "metadata": {},
   "source": [
    "### Assignment 5: Counting Words in a File\n",
    "\n",
    "Write a function that reads the contents of a file named `document.txt` and returns the number of words in the file."
   ]
  },
  {
   "cell_type": "code",
   "execution_count": 8,
   "id": "023b6d9e",
   "metadata": {
    "collapsed": true,
    "jupyter": {
     "outputs_hidden": true
    },
    "tags": []
   },
   "outputs": [
    {
     "ename": "FileNotFoundError",
     "evalue": "[Errno 2] No such file or directory: 'document.txt'",
     "output_type": "error",
     "traceback": [
      "\u001b[1;31m---------------------------------------------------------------------------\u001b[0m",
      "\u001b[1;31mFileNotFoundError\u001b[0m                         Traceback (most recent call last)",
      "Cell \u001b[1;32mIn[8], line 8\u001b[0m\n\u001b[0;32m      5\u001b[0m         \u001b[38;5;28;01mreturn\u001b[39;00m \u001b[38;5;28mlen\u001b[39m(words)\n\u001b[0;32m      7\u001b[0m \u001b[38;5;66;03m# Test\u001b[39;00m\n\u001b[1;32m----> 8\u001b[0m \u001b[38;5;28mprint\u001b[39m(count_words(\u001b[38;5;124m'\u001b[39m\u001b[38;5;124mdocument.txt\u001b[39m\u001b[38;5;124m'\u001b[39m))\n",
      "Cell \u001b[1;32mIn[8], line 2\u001b[0m, in \u001b[0;36mcount_words\u001b[1;34m(filename)\u001b[0m\n\u001b[0;32m      1\u001b[0m \u001b[38;5;28;01mdef\u001b[39;00m \u001b[38;5;21mcount_words\u001b[39m(filename):\n\u001b[1;32m----> 2\u001b[0m     \u001b[38;5;28;01mwith\u001b[39;00m \u001b[38;5;28mopen\u001b[39m(filename, \u001b[38;5;124m'\u001b[39m\u001b[38;5;124mr\u001b[39m\u001b[38;5;124m'\u001b[39m) \u001b[38;5;28;01mas\u001b[39;00m file:\n\u001b[0;32m      3\u001b[0m         text \u001b[38;5;241m=\u001b[39m file\u001b[38;5;241m.\u001b[39mread()\n\u001b[0;32m      4\u001b[0m         words \u001b[38;5;241m=\u001b[39m text\u001b[38;5;241m.\u001b[39msplit()\n",
      "File \u001b[1;32m~\\anaconda3\\Lib\\site-packages\\IPython\\core\\interactiveshell.py:286\u001b[0m, in \u001b[0;36m_modified_open\u001b[1;34m(file, *args, **kwargs)\u001b[0m\n\u001b[0;32m    279\u001b[0m \u001b[38;5;28;01mif\u001b[39;00m file \u001b[38;5;129;01min\u001b[39;00m {\u001b[38;5;241m0\u001b[39m, \u001b[38;5;241m1\u001b[39m, \u001b[38;5;241m2\u001b[39m}:\n\u001b[0;32m    280\u001b[0m     \u001b[38;5;28;01mraise\u001b[39;00m \u001b[38;5;167;01mValueError\u001b[39;00m(\n\u001b[0;32m    281\u001b[0m         \u001b[38;5;124mf\u001b[39m\u001b[38;5;124m\"\u001b[39m\u001b[38;5;124mIPython won\u001b[39m\u001b[38;5;124m'\u001b[39m\u001b[38;5;124mt let you open fd=\u001b[39m\u001b[38;5;132;01m{\u001b[39;00mfile\u001b[38;5;132;01m}\u001b[39;00m\u001b[38;5;124m by default \u001b[39m\u001b[38;5;124m\"\u001b[39m\n\u001b[0;32m    282\u001b[0m         \u001b[38;5;124m\"\u001b[39m\u001b[38;5;124mas it is likely to crash IPython. If you know what you are doing, \u001b[39m\u001b[38;5;124m\"\u001b[39m\n\u001b[0;32m    283\u001b[0m         \u001b[38;5;124m\"\u001b[39m\u001b[38;5;124myou can use builtins\u001b[39m\u001b[38;5;124m'\u001b[39m\u001b[38;5;124m open.\u001b[39m\u001b[38;5;124m\"\u001b[39m\n\u001b[0;32m    284\u001b[0m     )\n\u001b[1;32m--> 286\u001b[0m \u001b[38;5;28;01mreturn\u001b[39;00m io_open(file, \u001b[38;5;241m*\u001b[39margs, \u001b[38;5;241m*\u001b[39m\u001b[38;5;241m*\u001b[39mkwargs)\n",
      "\u001b[1;31mFileNotFoundError\u001b[0m: [Errno 2] No such file or directory: 'document.txt'"
     ]
    }
   ],
   "source": [
    "def count_words(filename):\n",
    "    with open(filename, 'r') as file:\n",
    "        text = file.read()\n",
    "        words = text.split()\n",
    "        return len(words)\n",
    "\n",
    "# Test\n",
    "print(count_words('document.txt'))"
   ]
  },
  {
   "cell_type": "markdown",
   "id": "730aad78",
   "metadata": {},
   "source": [
    "### Assignment 6: Finding and Replacing Text\n",
    "\n",
    "Write a function that finds and replaces all occurrences of a given word in a file named `data.txt` with another word."
   ]
  },
  {
   "cell_type": "code",
   "execution_count": null,
   "id": "634c1c8b",
   "metadata": {},
   "outputs": [],
   "source": [
    "def find_and_replace(filename, old_word, new_word):\n",
    "    with open(filename, 'r') as file:\n",
    "        text = file.read()\n",
    "    new_text = text.replace(old_word, new_word)\n",
    "    with open(filename, 'w') as file:\n",
    "        file.write(new_text)\n",
    "\n",
    "# Test\n",
    "# find_and_replace('data.txt', 'old', 'new')"
   ]
  },
  {
   "cell_type": "markdown",
   "id": "6a64a4bf",
   "metadata": {},
   "source": [
    "### Assignment 7: Reading a File in Reverse\n",
    "\n",
    "Write a function that reads the contents of a file named `reverse.txt` and prints each line in reverse order."
   ]
  },
  {
   "cell_type": "code",
   "execution_count": null,
   "id": "cfaa8af6",
   "metadata": {},
   "outputs": [],
   "source": [
    "def read_reverse(filename):\n",
    "    with open(filename, 'r') as file:\n",
    "        lines = file.readlines()\n",
    "    for line in reversed(lines):\n",
    "        print(line.strip())\n",
    "\n",
    "# Test\n",
    "# read_reverse('reverse.txt')"
   ]
  },
  {
   "cell_type": "markdown",
   "id": "5248dab8",
   "metadata": {},
   "source": [
    "### Assignment 8: Counting Lines, Words, and Characters\n",
    "\n",
    "Write a function that reads the contents of a file named `stats.txt` and returns the number of lines, words, and characters in the file."
   ]
  },
  {
   "cell_type": "code",
   "execution_count": null,
   "id": "228d3d35",
   "metadata": {},
   "outputs": [],
   "source": [
    "def count_lwc(filename):\n",
    "    with open(filename, 'r') as file:\n",
    "        lines = file.readlines()\n",
    "        words = sum(len(line.split()) for line in lines)\n",
    "        characters = sum(len(line) for line in lines)\n",
    "    return len(lines), words, characters\n",
    "\n",
    "# Test\n",
    "# print(count_lwc('stats.txt'))"
   ]
  },
  {
   "cell_type": "markdown",
   "id": "2767c0b6",
   "metadata": {},
   "source": [
    "### Assignment 9: Merging Multiple Files\n",
    "\n",
    "Write a function that merges the contents of multiple files into a single file named `merged.txt`."
   ]
  },
  {
   "cell_type": "code",
   "execution_count": null,
   "id": "b23cd848",
   "metadata": {},
   "outputs": [],
   "source": [
    "def merge_files(file_list, output_file):\n",
    "    with open(output_file, 'w') as outfile:\n",
    "        for fname in file_list:\n",
    "            with open(fname, 'r') as infile:\n",
    "                outfile.write(infile.read() + '\\n')\n",
    "\n",
    "# Test\n",
    "# merge_files(['file1.txt', 'file2.txt'], 'merged.txt')"
   ]
  },
  {
   "cell_type": "markdown",
   "id": "1e7d6448",
   "metadata": {},
   "source": [
    "### Assignment 10: Splitting a Large File\n",
    "\n",
    "Write a function that splits a large file named `large.txt` into smaller files of 100 lines each."
   ]
  },
  {
   "cell_type": "code",
   "execution_count": null,
   "id": "bded5b30",
   "metadata": {},
   "outputs": [],
   "source": [
    "def split_file(filename, lines_per_file):\n",
    "    with open(filename, 'r') as file:\n",
    "        lines = file.readlines()\n",
    "    for i in range(0, len(lines), lines_per_file):\n",
    "        with open(f'{filename}_part{i//lines_per_file + 1}.txt', 'w') as part_file:\n",
    "            part_file.writelines(lines[i:i + lines_per_file])\n",
    "\n",
    "# Test\n",
    "# split_file('large.txt', 100)"
   ]
  },
  {
   "cell_type": "markdown",
   "id": "f11ff597",
   "metadata": {},
   "source": [
    "### Assignment 11: Creating a Log File\n",
    "\n",
    "Write a function that creates a log file named `activity.log` and writes log messages with timestamps."
   ]
  },
  {
   "cell_type": "code",
   "execution_count": null,
   "id": "ba9b9da3",
   "metadata": {},
   "outputs": [],
   "source": [
    "import datetime\n",
    "\n",
    "def log_message(message, filename='activity.log'):\n",
    "    timestamp = datetime.datetime.now().isoformat()\n",
    "    with open(filename, 'a') as file:\n",
    "        file.write(f'[{timestamp}] {message}\\n')\n",
    "\n",
    "# Test\n",
    "# log_message('This is a log message.')"
   ]
  },
  {
   "cell_type": "markdown",
   "id": "1ac51cbf",
   "metadata": {},
   "source": [
    "### Assignment 12: Binary File Operations\n",
    "\n",
    "Write a function that reads a binary file named `image.bin` and writes its contents to another binary file named `copy_image.bin`."
   ]
  },
  {
   "cell_type": "code",
   "execution_count": null,
   "id": "c984329c",
   "metadata": {},
   "outputs": [],
   "source": [
    "def copy_binary_file(source, destination):\n",
    "    with open(source, 'rb') as src:\n",
    "        with open(destination, 'wb') as dest:\n",
    "            dest.write(src.read())\n",
    "\n",
    "# Test\n",
    "# copy_binary_file('image.bin', 'copy_image.bin')"
   ]
  },
  {
   "cell_type": "markdown",
   "id": "8df1450d",
   "metadata": {},
   "source": [
    "### Assignment 13: CSV File Operations\n",
    "\n",
    "Write a function that reads a CSV file named `data.csv` and prints its contents as a list of dictionaries."
   ]
  },
  {
   "cell_type": "code",
   "execution_count": null,
   "id": "4245bdd3",
   "metadata": {},
   "outputs": [],
   "source": [
    "import csv\n",
    "\n",
    "def read_csv_as_dicts(filename):\n",
    "    with open(filename, 'r') as file:\n",
    "        reader = csv.DictReader(file)\n",
    "        return list(reader)\n",
    "\n",
    "# Test\n",
    "# print(read_csv_as_dicts('data.csv'))"
   ]
  },
  {
   "cell_type": "markdown",
   "id": "aee5df42",
   "metadata": {},
   "source": [
    "### Assignment 14: JSON File Operations\n",
    "\n",
    "Write a function that reads a JSON file named `data.json` and prints its contents as a Python dictionary."
   ]
  },
  {
   "cell_type": "code",
   "execution_count": null,
   "id": "c66ca407",
   "metadata": {},
   "outputs": [],
   "source": [
    "import json\n",
    "\n",
    "def read_json(filename):\n",
    "    with open(filename, 'r') as file:\n",
    "        data = json.load(file)\n",
    "        return data\n",
    "\n",
    "# Test\n",
    "# print(read_json('data.json'))"
   ]
  },
  {
   "cell_type": "markdown",
   "id": "1556e697",
   "metadata": {},
   "source": [
    "### Assignment 15: File Permission Handling\n",
    "\n",
    "Write a function that attempts to read a file named `protected.txt` and handles any permission errors gracefully by printing an error message."
   ]
  },
  {
   "cell_type": "code",
   "execution_count": null,
   "id": "38c2b084",
   "metadata": {},
   "outputs": [],
   "source": [
    "def read_protected_file(filename):\n",
    "    try:\n",
    "        with open(filename, 'r') as file:\n",
    "            print(file.read())\n",
    "    except PermissionError as e:\n",
    "        print(f\"Permission error: {e}\")\n",
    "\n",
    "# Test\n",
    "# read_protected_file('protected.txt')"
   ]
  }
 ],
 "metadata": {
  "kernelspec": {
   "display_name": "Python 3 (ipykernel)",
   "language": "python",
   "name": "python3"
  },
  "language_info": {
   "codemirror_mode": {
    "name": "ipython",
    "version": 3
   },
   "file_extension": ".py",
   "mimetype": "text/x-python",
   "name": "python",
   "nbconvert_exporter": "python",
   "pygments_lexer": "ipython3",
   "version": "3.11.5"
  }
 },
 "nbformat": 4,
 "nbformat_minor": 5
}
