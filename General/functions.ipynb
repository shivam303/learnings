{
 "cells": [
  {
   "cell_type": "code",
   "execution_count": 2,
   "id": "6cf88d92-995e-4a31-9ba2-fce2c933b3d2",
   "metadata": {
    "tags": []
   },
   "outputs": [],
   "source": [
    "def odd_even(n):\n",
    "    if n%2==0:\n",
    "        return  \"This is even number\"\n",
    "    else:\n",
    "        return \"This is odd number\""
   ]
  },
  {
   "cell_type": "code",
   "execution_count": 8,
   "id": "f4a6d7ce-54ad-414d-bbc9-0c3dd051c0ef",
   "metadata": {
    "tags": []
   },
   "outputs": [
    {
     "data": {
      "text/plain": [
       "'This is odd number'"
      ]
     },
     "execution_count": 8,
     "metadata": {},
     "output_type": "execute_result"
    }
   ],
   "source": [
    "odd_even(23)"
   ]
  },
  {
   "cell_type": "code",
   "execution_count": 11,
   "id": "0390f1d6-5332-4061-b979-8b11dae83373",
   "metadata": {
    "tags": []
   },
   "outputs": [],
   "source": [
    "def welcome(name = 'Shivam'):\n",
    "    print(f\"Hello {name}, Welcome here.\")"
   ]
  },
  {
   "cell_type": "code",
   "execution_count": 13,
   "id": "0d461a27-8bdc-4720-b0b8-a149dfa85cc0",
   "metadata": {
    "tags": []
   },
   "outputs": [
    {
     "name": "stdout",
     "output_type": "stream",
     "text": [
      "Hello Krish, Welcome here.\n"
     ]
    }
   ],
   "source": [
    "welcome(\"Krish\")"
   ]
  },
  {
   "cell_type": "code",
   "execution_count": 15,
   "id": "71153d54-1c65-4a31-88d8-0d37f91e158c",
   "metadata": {
    "tags": []
   },
   "outputs": [],
   "source": [
    "#positional arguments\n",
    "\n",
    "def print_num(*args):\n",
    "    for nums in args:\n",
    "        print(nums)"
   ]
  },
  {
   "cell_type": "code",
   "execution_count": null,
   "id": "167d838a-2d47-4b72-abf1-96e4e4d3b098",
   "metadata": {},
   "outputs": [],
   "source": []
  },
  {
   "cell_type": "code",
   "execution_count": 18,
   "id": "5dd642b1-d3b4-4a4a-af6b-d315ff17cac6",
   "metadata": {
    "tags": []
   },
   "outputs": [
    {
     "name": "stdout",
     "output_type": "stream",
     "text": [
      "1\n",
      "2\n",
      "3\n",
      "40\n",
      "11\n",
      "23\n",
      "Tempo\n",
      "Auto\n"
     ]
    }
   ],
   "source": [
    "print_num(1,2,3,40,11,23,'Tempo','Auto')"
   ]
  },
  {
   "cell_type": "code",
   "execution_count": 23,
   "id": "a0df079c-ff8c-4838-96f9-db77e38c6fcc",
   "metadata": {
    "tags": []
   },
   "outputs": [],
   "source": [
    "# Keyword Arguments\n",
    "\n",
    "def print_details(**kwargs):\n",
    "    for key,value in kwargs.items():\n",
    "        print(f\"{key} : {value}\")"
   ]
  },
  {
   "cell_type": "code",
   "execution_count": 25,
   "id": "ff5ae0c4-3a43-435c-9e2c-d4d891520881",
   "metadata": {
    "tags": []
   },
   "outputs": [
    {
     "name": "stdout",
     "output_type": "stream",
     "text": [
      "name : Shivam\n",
      "age : 22\n",
      "country : India\n",
      "None\n"
     ]
    }
   ],
   "source": [
    "print(print_details(name=\"Shivam\", age = \"22\", country = \"India\"))"
   ]
  },
  {
   "cell_type": "code",
   "execution_count": 34,
   "id": "a7c54f72-4a5b-4795-93be-05c31f9dab02",
   "metadata": {
    "tags": []
   },
   "outputs": [],
   "source": [
    "# Keyword/positional Arguments\n",
    "\n",
    "def print_details(*args,**kwargs):\n",
    "    \n",
    "    for x in args:\n",
    "        print(f\"positional argument: {x}\")\n",
    "    \n",
    "    for key,value in kwargs.items():\n",
    "        print(f\"{key} : {value}\")"
   ]
  },
  {
   "cell_type": "code",
   "execution_count": 35,
   "id": "6281d60b-a46f-4df7-88b7-b0da1deb71bf",
   "metadata": {
    "tags": []
   },
   "outputs": [
    {
     "name": "stdout",
     "output_type": "stream",
     "text": [
      "positional argument: 1\n",
      "positional argument: 11\n",
      "positional argument: 22\n",
      "positional argument: 31\n",
      "positional argument: 24\n",
      "positional argument: 82\n",
      "Name : Shivam\n",
      "Age : 32\n",
      "Place_Of_Birth : Kanpur\n"
     ]
    }
   ],
   "source": [
    "print_details(1,11,22,31,24,82,Name=\"Shivam\",Age=\"32\",Place_Of_Birth=\"Kanpur\")"
   ]
  },
  {
   "cell_type": "code",
   "execution_count": 39,
   "id": "3be06f88-de02-4826-ae0e-b877dbefe643",
   "metadata": {
    "tags": []
   },
   "outputs": [],
   "source": [
    "def factorial(n):\n",
    "    if n==0:\n",
    "        return 1\n",
    "    else:\n",
    "        return n* factorial(n-1)\n"
   ]
  },
  {
   "cell_type": "code",
   "execution_count": 42,
   "id": "2fa06b69-b603-4aee-bc51-88a002ff6092",
   "metadata": {
    "collapsed": true,
    "jupyter": {
     "outputs_hidden": true
    },
    "tags": []
   },
   "outputs": [
    {
     "data": {
      "text/plain": [
       "402387260077093773543702433923003985719374864210714632543799910429938512398629020592044208486969404800479988610197196058631666872994808558901323829669944590997424504087073759918823627727188732519779505950995276120874975462497043601418278094646496291056393887437886487337119181045825783647849977012476632889835955735432513185323958463075557409114262417474349347553428646576611667797396668820291207379143853719588249808126867838374559731746136085379534524221586593201928090878297308431392844403281231558611036976801357304216168747609675871348312025478589320767169132448426236131412508780208000261683151027341827977704784635868170164365024153691398281264810213092761244896359928705114964975419909342221566832572080821333186116811553615836546984046708975602900950537616475847728421889679646244945160765353408198901385442487984959953319101723355556602139450399736280750137837615307127761926849034352625200015888535147331611702103968175921510907788019393178114194545257223865541461062892187960223838971476088506276862967146674697562911234082439208160153780889893964518263243671616762179168909779911903754031274622289988005195444414282012187361745992642956581746628302955570299024324153181617210465832036786906117260158783520751516284225540265170483304226143974286933061690897968482590125458327168226458066526769958652682272807075781391858178889652208164348344825993266043367660176999612831860788386150279465955131156552036093988180612138558600301435694527224206344631797460594682573103790084024432438465657245014402821885252470935190620929023136493273497565513958720559654228749774011413346962715422845862377387538230483865688976461927383814900140767310446640259899490222221765904339901886018566526485061799702356193897017860040811889729918311021171229845901641921068884387121855646124960798722908519296819372388642614839657382291123125024186649353143970137428531926649875337218940694281434118520158014123344828015051399694290153483077644569099073152433278288269864602789864321139083506217095002597389863554277196742822248757586765752344220207573630569498825087968928162753848863396909959826280956121450994871701244516461260379029309120889086942028510640182154399457156805941872748998094254742173582401063677404595741785160829230135358081840096996372524230560855903700624271243416909004153690105933983835777939410970027753472000000000000000000000000000000000000000000000000000000000000000000000000000000000000000000000000000000000000000000000000000000000000000000000000000000000000000000000000000000000000000000000000000000000000000000000000000000000000000000000000000000000"
      ]
     },
     "execution_count": 42,
     "metadata": {},
     "output_type": "execute_result"
    }
   ],
   "source": [
    "factorial(1000)"
   ]
  },
  {
   "cell_type": "code",
   "execution_count": 44,
   "id": "0388cbe1-98a5-4e03-bdf5-2e1592059522",
   "metadata": {
    "tags": []
   },
   "outputs": [],
   "source": [
    "def count_words(path):\n",
    "    \n",
    "    word_count = {}\n",
    "    \n",
    "    try:\n",
    "        with open(path,'r') as file:\n",
    "            for line in file:\n",
    "                words =line.strip().split()\n",
    "                for word in words:\n",
    "                    word = word.lower()\n",
    "                    word_count[word] = word_count.get(word,0)+1\n",
    "    except FilenotFoundError:\n",
    "        print(f\"File '{path}' not found\")\n",
    "    return word_count"
   ]
  },
  {
   "cell_type": "code",
   "execution_count": 46,
   "id": "022ab1b5-865c-4073-841c-595d2a0c64aa",
   "metadata": {
    "tags": []
   },
   "outputs": [
    {
     "data": {
      "text/plain": [
       "{'hello': 1,\n",
       " 'my': 2,\n",
       " 'name': 1,\n",
       " 'is': 2,\n",
       " 'shivam': 1,\n",
       " 'i': 1,\n",
       " 'am': 1,\n",
       " 'from': 1,\n",
       " 'kanpur': 1,\n",
       " ',': 1,\n",
       " 'hometown': 1,\n",
       " 'in': 1,\n",
       " 'up': 1}"
      ]
     },
     "execution_count": 46,
     "metadata": {},
     "output_type": "execute_result"
    }
   ],
   "source": [
    "count_words('sample.txt')"
   ]
  },
  {
   "cell_type": "code",
   "execution_count": 48,
   "id": "3d0ba388-2f7f-452e-a382-6d18ec63ee59",
   "metadata": {
    "tags": []
   },
   "outputs": [],
   "source": [
    "square = lambda x : x**2"
   ]
  },
  {
   "cell_type": "code",
   "execution_count": 51,
   "id": "68bcd015-4dfb-4657-8209-dafa15986e0d",
   "metadata": {
    "tags": []
   },
   "outputs": [],
   "source": [
    "nums = [1,2,3,4,5,6,7]"
   ]
  },
  {
   "cell_type": "code",
   "execution_count": 55,
   "id": "d873e80a-dd3d-4274-9788-5bfb4dab3871",
   "metadata": {
    "tags": []
   },
   "outputs": [],
   "source": [
    "square = [1, 4, 9, 16, 25, 36, 49]"
   ]
  },
  {
   "cell_type": "code",
   "execution_count": 58,
   "id": "bca35dab-76da-4a8a-bc0e-6bb36f811d29",
   "metadata": {
    "tags": []
   },
   "outputs": [
    {
     "data": {
      "text/plain": [
       "[1.0, 2.0, 3.0, 4.0, 5.0, 6.0, 7.0]"
      ]
     },
     "execution_count": 58,
     "metadata": {},
     "output_type": "execute_result"
    }
   ],
   "source": [
    "list(map(lambda x:x**0.5,square))"
   ]
  },
  {
   "cell_type": "code",
   "execution_count": 59,
   "id": "ac9e0d86-151b-4051-9910-d30e30526ce9",
   "metadata": {
    "tags": []
   },
   "outputs": [
    {
     "data": {
      "text/plain": [
       "[1, 4, 9, 16, 25, 36, 49]"
      ]
     },
     "execution_count": 59,
     "metadata": {},
     "output_type": "execute_result"
    }
   ],
   "source": [
    "list(map(lambda x:x**2,nums))"
   ]
  },
  {
   "cell_type": "code",
   "execution_count": 60,
   "id": "81a54f65-555b-4bb0-9147-88485fbb7756",
   "metadata": {
    "tags": []
   },
   "outputs": [],
   "source": [
    "number1 = [1,3,5,7]\n",
    "number2 = [2,4,6,8]"
   ]
  },
  {
   "cell_type": "code",
   "execution_count": 61,
   "id": "f8d41d25-2002-4914-b3cb-6fcae4f96abf",
   "metadata": {
    "tags": []
   },
   "outputs": [
    {
     "data": {
      "text/plain": [
       "[2, 12, 30, 56]"
      ]
     },
     "execution_count": 61,
     "metadata": {},
     "output_type": "execute_result"
    }
   ],
   "source": [
    "list(map(lambda x,y:x*y,number1,number2))"
   ]
  },
  {
   "cell_type": "code",
   "execution_count": 62,
   "id": "f1dcab2a-03fc-450a-b0db-889b63e5eaa4",
   "metadata": {
    "tags": []
   },
   "outputs": [],
   "source": [
    "k = ['1','2','3','4','5']"
   ]
  },
  {
   "cell_type": "code",
   "execution_count": 63,
   "id": "3b44e3b7-9522-4277-944c-0fe1f803c664",
   "metadata": {
    "tags": []
   },
   "outputs": [
    {
     "name": "stdout",
     "output_type": "stream",
     "text": [
      "['1', '2', '3', '4', '5']\n"
     ]
    }
   ],
   "source": [
    "print(k)"
   ]
  },
  {
   "cell_type": "code",
   "execution_count": 65,
   "id": "a9ea6ba5-a957-4bac-954e-492438024c95",
   "metadata": {
    "tags": []
   },
   "outputs": [
    {
     "name": "stdout",
     "output_type": "stream",
     "text": [
      "[1, 2, 3, 4, 5]\n"
     ]
    }
   ],
   "source": [
    "print(list(map(int,k)))"
   ]
  },
  {
   "cell_type": "code",
   "execution_count": 66,
   "id": "c25c2124-70cf-4558-bb37-72f79002bab7",
   "metadata": {
    "tags": []
   },
   "outputs": [],
   "source": [
    "words = ['apple','banana','mango','kiwi','pineapple']"
   ]
  },
  {
   "cell_type": "code",
   "execution_count": 69,
   "id": "b6c0a340-4afa-4dfb-84ac-05ba4284c307",
   "metadata": {
    "tags": []
   },
   "outputs": [
    {
     "name": "stdout",
     "output_type": "stream",
     "text": [
      "['APPLE', 'BANANA', 'MANGO', 'KIWI', 'PINEAPPLE']\n"
     ]
    }
   ],
   "source": [
    "print(list(map(str.upper,words)))"
   ]
  },
  {
   "cell_type": "code",
   "execution_count": 71,
   "id": "91cf782d-3bf6-4460-8fd5-970fc90ae1b0",
   "metadata": {
    "tags": []
   },
   "outputs": [],
   "source": [
    "numbers = [1,2,3,45,6,6,7,8,9,10,11,23]"
   ]
  },
  {
   "cell_type": "code",
   "execution_count": 77,
   "id": "33d7d82c-ccc8-4bd9-a31c-357d3c692b38",
   "metadata": {
    "tags": []
   },
   "outputs": [],
   "source": [
    "gretaer_than_5 = list(filter(lambda x:x>5 and x%2 == 0 ,numbers))"
   ]
  },
  {
   "cell_type": "code",
   "execution_count": 78,
   "id": "e14db9a8-feb3-472b-b9a1-062ae35993a8",
   "metadata": {
    "tags": []
   },
   "outputs": [
    {
     "data": {
      "text/plain": [
       "[6, 6, 8, 10]"
      ]
     },
     "execution_count": 78,
     "metadata": {},
     "output_type": "execute_result"
    }
   ],
   "source": [
    "gretaer_than_5"
   ]
  },
  {
   "cell_type": "code",
   "execution_count": 75,
   "id": "500ace59-1052-4d85-9ab2-cc465354d79d",
   "metadata": {
    "tags": []
   },
   "outputs": [
    {
     "data": {
      "text/plain": [
       "[False, False, False, True, True, True, True, True, True, True, True, True]"
      ]
     },
     "execution_count": 75,
     "metadata": {},
     "output_type": "execute_result"
    }
   ],
   "source": [
    " list(map(lambda x:x>5,numbers))"
   ]
  },
  {
   "cell_type": "code",
   "execution_count": null,
   "id": "5097ca9a-0850-43e8-8b78-d0ffb7036242",
   "metadata": {},
   "outputs": [],
   "source": []
  }
 ],
 "metadata": {
  "kernelspec": {
   "display_name": "Python 3 (ipykernel)",
   "language": "python",
   "name": "python3"
  },
  "language_info": {
   "codemirror_mode": {
    "name": "ipython",
    "version": 3
   },
   "file_extension": ".py",
   "mimetype": "text/x-python",
   "name": "python",
   "nbconvert_exporter": "python",
   "pygments_lexer": "ipython3",
   "version": "3.11.5"
  }
 },
 "nbformat": 4,
 "nbformat_minor": 5
}
