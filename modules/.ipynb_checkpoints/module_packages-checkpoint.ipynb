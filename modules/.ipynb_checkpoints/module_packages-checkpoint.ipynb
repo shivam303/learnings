{
 "cells": [
  {
   "cell_type": "code",
   "execution_count": 1,
   "id": "86015348-dd66-4c3c-b800-0d5d937a4bb4",
   "metadata": {
    "tags": []
   },
   "outputs": [],
   "source": [
    "import math "
   ]
  },
  {
   "cell_type": "code",
   "execution_count": 5,
   "id": "f14ebbde-6989-4626-af2c-a4a1191ca823",
   "metadata": {
    "tags": []
   },
   "outputs": [],
   "source": [
    "from math import pi"
   ]
  },
  {
   "cell_type": "code",
   "execution_count": 3,
   "id": "a53a0182-d52b-4767-b67f-43f64f1bba81",
   "metadata": {
    "tags": []
   },
   "outputs": [
    {
     "data": {
      "text/plain": [
       "1.0"
      ]
     },
     "execution_count": 3,
     "metadata": {},
     "output_type": "execute_result"
    }
   ],
   "source": [
    "math.log10(10)"
   ]
  },
  {
   "cell_type": "code",
   "execution_count": 7,
   "id": "c26f0208-a8aa-4744-be0b-e3513b7ee73f",
   "metadata": {
    "tags": []
   },
   "outputs": [
    {
     "data": {
      "text/plain": [
       "3.141592653589793"
      ]
     },
     "execution_count": 7,
     "metadata": {},
     "output_type": "execute_result"
    }
   ],
   "source": [
    "pi"
   ]
  },
  {
   "cell_type": "code",
   "execution_count": 9,
   "id": "a37f62fa-9ca5-454f-8699-f4d69ea6bce1",
   "metadata": {
    "tags": []
   },
   "outputs": [],
   "source": [
    "import numpy as np"
   ]
  },
  {
   "cell_type": "code",
   "execution_count": 4,
   "id": "5d213b82-b186-4175-8ded-55550b6e5921",
   "metadata": {
    "tags": []
   },
   "outputs": [],
   "source": [
    "from packages import maths"
   ]
  },
  {
   "cell_type": "code",
   "execution_count": 8,
   "id": "fae767aa-0b01-4018-93fa-db75cc2ed185",
   "metadata": {
    "tags": []
   },
   "outputs": [
    {
     "data": {
      "text/plain": [
       "24"
      ]
     },
     "execution_count": 8,
     "metadata": {},
     "output_type": "execute_result"
    }
   ],
   "source": [
    "addition(2,22)"
   ]
  },
  {
   "cell_type": "code",
   "execution_count": 5,
   "id": "cb245b05-59e2-4d35-8735-afc4e9e76f68",
   "metadata": {
    "tags": []
   },
   "outputs": [
    {
     "data": {
      "text/plain": [
       "47"
      ]
     },
     "execution_count": 5,
     "metadata": {},
     "output_type": "execute_result"
    }
   ],
   "source": [
    "maths.addition(22,25)"
   ]
  },
  {
   "cell_type": "code",
   "execution_count": 6,
   "id": "669e33e0-ed24-4c9d-9810-0e1645a1b769",
   "metadata": {
    "tags": []
   },
   "outputs": [
    {
     "data": {
      "text/plain": [
       "54"
      ]
     },
     "execution_count": 6,
     "metadata": {},
     "output_type": "execute_result"
    }
   ],
   "source": [
    "maths.new_addition(2,3,4,5,6,7,8,9,10)"
   ]
  },
  {
   "cell_type": "code",
   "execution_count": 1,
   "id": "cb08f338-7e60-4993-804a-00fb5a0b9c26",
   "metadata": {
    "tags": []
   },
   "outputs": [],
   "source": [
    "def new_addition(*args):\n",
    "    return sum(args)"
   ]
  },
  {
   "cell_type": "code",
   "execution_count": 2,
   "id": "62b75885-8911-4263-a95b-80755c4c1d3c",
   "metadata": {
    "tags": []
   },
   "outputs": [
    {
     "data": {
      "text/plain": [
       "55"
      ]
     },
     "execution_count": 2,
     "metadata": {},
     "output_type": "execute_result"
    }
   ],
   "source": [
    "new_addition(1,2,3,4,5,6,7,8,9,10)"
   ]
  },
  {
   "cell_type": "code",
   "execution_count": 6,
   "id": "1fa814a1-7908-4567-8a20-9a2a86d88fa3",
   "metadata": {
    "tags": []
   },
   "outputs": [],
   "source": [
    "from packages.subpackages.mult import multiply"
   ]
  },
  {
   "cell_type": "code",
   "execution_count": 7,
   "id": "416e67f8-65b4-4f1f-acff-7d335d18c02f",
   "metadata": {
    "tags": []
   },
   "outputs": [
    {
     "data": {
      "text/plain": [
       "99"
      ]
     },
     "execution_count": 7,
     "metadata": {},
     "output_type": "execute_result"
    }
   ],
   "source": [
    "multiply(3,33)"
   ]
  },
  {
   "cell_type": "code",
   "execution_count": 8,
   "id": "18bee076-d0c1-4ec5-97ca-afd8eadc3fe3",
   "metadata": {
    "tags": []
   },
   "outputs": [],
   "source": [
    "import os"
   ]
  },
  {
   "cell_type": "code",
   "execution_count": 11,
   "id": "1b17e329-36c4-4be9-8640-e3ac15649812",
   "metadata": {
    "tags": []
   },
   "outputs": [
    {
     "data": {
      "text/plain": [
       "b'C:\\\\Users\\\\shivam\\\\Udemy Python\\\\modules'"
      ]
     },
     "execution_count": 11,
     "metadata": {},
     "output_type": "execute_result"
    }
   ],
   "source": [
    "os.getcwdb()"
   ]
  },
  {
   "cell_type": "code",
   "execution_count": 16,
   "id": "554bc1b6-50b5-4793-b32c-95234a555684",
   "metadata": {
    "tags": []
   },
   "outputs": [],
   "source": [
    "os.mkdir('test_dir')"
   ]
  },
  {
   "cell_type": "code",
   "execution_count": 18,
   "id": "c10a566f-5a07-4c0f-b751-22578916da98",
   "metadata": {
    "tags": []
   },
   "outputs": [],
   "source": [
    "import shutil as sh"
   ]
  },
  {
   "cell_type": "code",
   "execution_count": 19,
   "id": "bc80487e-00b9-45d0-b4d5-f67e764e4b72",
   "metadata": {
    "tags": []
   },
   "outputs": [
    {
     "data": {
      "text/plain": [
       "'destination.txt'"
      ]
     },
     "execution_count": 19,
     "metadata": {},
     "output_type": "execute_result"
    }
   ],
   "source": [
    "sh.copyfile('source.txt','destination.txt')"
   ]
  },
  {
   "cell_type": "code",
   "execution_count": 23,
   "id": "e11bc993-ce29-4f04-9e35-a147991efd6c",
   "metadata": {
    "tags": []
   },
   "outputs": [],
   "source": [
    "## data Serealization\n",
    "import json\n",
    "\n",
    "data = {'name':'shivam','age':'23'}\n",
    "\n",
    "json_str = json.dumps(data)"
   ]
  },
  {
   "cell_type": "code",
   "execution_count": 25,
   "id": "150c482f-7fe4-43f1-b62a-50c911de5f54",
   "metadata": {
    "tags": []
   },
   "outputs": [
    {
     "data": {
      "text/plain": [
       "str"
      ]
     },
     "execution_count": 25,
     "metadata": {},
     "output_type": "execute_result"
    }
   ],
   "source": [
    "type(json_str)"
   ]
  },
  {
   "cell_type": "code",
   "execution_count": 29,
   "id": "cd8a2d3b-0645-4bd4-afdc-f6a4cae874f0",
   "metadata": {
    "tags": []
   },
   "outputs": [],
   "source": [
    "conv = json.loads(json_str)"
   ]
  },
  {
   "cell_type": "code",
   "execution_count": 32,
   "id": "e881d93a-6c92-4ead-a92f-3f32ec2acbd0",
   "metadata": {
    "tags": []
   },
   "outputs": [
    {
     "name": "stdout",
     "output_type": "stream",
     "text": [
      "{'name': 'shivam', 'age': '23'}\n",
      "<class 'dict'>\n"
     ]
    }
   ],
   "source": [
    "print(conv)\n",
    "print(type(conv))"
   ]
  }
 ],
 "metadata": {
  "kernelspec": {
   "display_name": "Python 3 (ipykernel)",
   "language": "python",
   "name": "python3"
  },
  "language_info": {
   "codemirror_mode": {
    "name": "ipython",
    "version": 3
   },
   "file_extension": ".py",
   "mimetype": "text/x-python",
   "name": "python",
   "nbconvert_exporter": "python",
   "pygments_lexer": "ipython3",
   "version": "3.11.5"
  }
 },
 "nbformat": 4,
 "nbformat_minor": 5
}
